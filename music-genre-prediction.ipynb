{
 "cells": [
  {
   "cell_type": "markdown",
   "metadata": {
    "toc": true
   },
   "source": [
    "<h1>Table of Contents<span class=\"tocSkip\"></span></h1>\n",
    "<div class=\"toc\"><ul class=\"toc-item\"><li><span><a href=\"#Описание-проекта\" data-toc-modified-id=\"Описание-проекта-1\"><span class=\"toc-item-num\">1&nbsp;&nbsp;</span>Описание проекта</a></span></li><li><span><a href=\"#Загрузка-и-ознакомление-с-данными\" data-toc-modified-id=\"Загрузка-и-ознакомление-с-данными-2\"><span class=\"toc-item-num\">2&nbsp;&nbsp;</span>Загрузка и ознакомление с данными</a></span></li><li><span><a href=\"#Предварительная-обработка\" data-toc-modified-id=\"Предварительная-обработка-3\"><span class=\"toc-item-num\">3&nbsp;&nbsp;</span>Предварительная обработка</a></span><ul class=\"toc-item\"><li><span><a href=\"#Дубликаты\" data-toc-modified-id=\"Дубликаты-3.1\"><span class=\"toc-item-num\">3.1&nbsp;&nbsp;</span>Дубликаты</a></span></li><li><span><a href=\"#Пропуски\" data-toc-modified-id=\"Пропуски-3.2\"><span class=\"toc-item-num\">3.2&nbsp;&nbsp;</span>Пропуски</a></span></li></ul></li><li><span><a href=\"#Разведочный-анализ\" data-toc-modified-id=\"Разведочный-анализ-4\"><span class=\"toc-item-num\">4&nbsp;&nbsp;</span>Разведочный анализ</a></span></li><li><span><a href=\"#Разработка-новых-синтетических-признаков\" data-toc-modified-id=\"Разработка-новых-синтетических-признаков-5\"><span class=\"toc-item-num\">5&nbsp;&nbsp;</span>Разработка новых синтетических признаков</a></span></li><li><span><a href=\"#Проверка-на-мультиколлинеарность\" data-toc-modified-id=\"Проверка-на-мультиколлинеарность-6\"><span class=\"toc-item-num\">6&nbsp;&nbsp;</span>Проверка на мультиколлинеарность</a></span></li><li><span><a href=\"#Отбор-финального-набора-обучающих-признаков\" data-toc-modified-id=\"Отбор-финального-набора-обучающих-признаков-7\"><span class=\"toc-item-num\">7&nbsp;&nbsp;</span>Отбор финального набора обучающих признаков</a></span></li><li><span><a href=\"#Выбор-и-обучение-моделей\" data-toc-modified-id=\"Выбор-и-обучение-моделей-8\"><span class=\"toc-item-num\">8&nbsp;&nbsp;</span>Выбор и обучение моделей</a></span><ul class=\"toc-item\"><li><span><a href=\"#Модель-LogisticRegression\" data-toc-modified-id=\"Модель-LogisticRegression-8.1\"><span class=\"toc-item-num\">8.1&nbsp;&nbsp;</span>Модель LogisticRegression</a></span></li><li><span><a href=\"#Модель-RandomForestClassifier\" data-toc-modified-id=\"Модель-RandomForestClassifier-8.2\"><span class=\"toc-item-num\">8.2&nbsp;&nbsp;</span>Модель RandomForestClassifier</a></span></li><li><span><a href=\"#Модель-CatBoostClassifier\" data-toc-modified-id=\"Модель-CatBoostClassifier-8.3\"><span class=\"toc-item-num\">8.3&nbsp;&nbsp;</span>Модель CatBoostClassifier</a></span></li></ul></li><li><span><a href=\"#Итоговая-оценка-качества-предсказания-лучшей-модели\" data-toc-modified-id=\"Итоговая-оценка-качества-предсказания-лучшей-модели-9\"><span class=\"toc-item-num\">9&nbsp;&nbsp;</span>Итоговая оценка качества предсказания лучшей модели</a></span></li><li><span><a href=\"#Анализ-важности-ее-признаков.\" data-toc-modified-id=\"Анализ-важности-ее-признаков.-10\"><span class=\"toc-item-num\">10&nbsp;&nbsp;</span>Анализ важности ее признаков.</a></span></li></ul></div>"
   ]
  },
  {
   "cell_type": "code",
   "execution_count": null,
   "metadata": {
    "_cell_guid": "b1076dfc-b9ad-4769-8c92-a6c4dae69d19",
    "_uuid": "8f2839f25d086af736a60e9eeb907d3b93b6e0e5",
    "execution": {
     "iopub.execute_input": "2023-11-07T17:00:25.269498Z",
     "iopub.status.busy": "2023-11-07T17:00:25.269026Z",
     "iopub.status.idle": "2023-11-07T17:00:25.731174Z",
     "shell.execute_reply": "2023-11-07T17:00:25.729419Z",
     "shell.execute_reply.started": "2023-11-07T17:00:25.269459Z"
    }
   },
   "outputs": [],
   "source": [
    "# This Python 3 environment comes with many helpful analytics libraries installed\n",
    "# It is defined by the kaggle/python Docker image: https://github.com/kaggle/docker-python\n",
    "# For example, here's several helpful packages to load\n",
    "\n",
    "import numpy as np # linear algebra\n",
    "import pandas as pd # data processing, CSV file I/O (e.g. pd.read_csv)\n",
    "\n",
    "# Input data files are available in the read-only \"../input/\" directory\n",
    "# For example, running this (by clicking run or pressing Shift+Enter) will list all files under the input directory\n",
    "\n",
    "import os\n",
    "for dirname, _, filenames in os.walk('/kaggle/input'):\n",
    "    for filename in filenames:\n",
    "        print(os.path.join(dirname, filename))\n",
    "\n",
    "# You can write up to 20GB to the current directory (/kaggle/working/) that gets preserved as output when you create a version using \"Save & Run All\" \n",
    "# You can also write temporary files to /kaggle/temp/, but they won't be saved outside of the current session"
   ]
  },
  {
   "cell_type": "code",
   "execution_count": null,
   "metadata": {
    "execution": {
     "iopub.execute_input": "2023-11-07T17:00:25.734851Z",
     "iopub.status.busy": "2023-11-07T17:00:25.734309Z",
     "iopub.status.idle": "2023-11-07T17:00:40.611346Z",
     "shell.execute_reply": "2023-11-07T17:00:40.609842Z",
     "shell.execute_reply.started": "2023-11-07T17:00:25.734815Z"
    }
   },
   "outputs": [],
   "source": [
    "! pip install phik\n",
    "! pip install catboost"
   ]
  },
  {
   "cell_type": "code",
   "execution_count": null,
   "metadata": {
    "execution": {
     "iopub.execute_input": "2023-11-07T17:09:11.658356Z",
     "iopub.status.busy": "2023-11-07T17:09:11.657863Z",
     "iopub.status.idle": "2023-11-07T17:09:12.028618Z",
     "shell.execute_reply": "2023-11-07T17:09:12.026591Z",
     "shell.execute_reply.started": "2023-11-07T17:09:11.658318Z"
    }
   },
   "outputs": [],
   "source": [
    "import warnings\n",
    "import regex\n",
    "\n",
    "import phik\n",
    "from phik.report import plot_correlation_matrix\n",
    "from phik import report\n",
    "\n",
    "import seaborn as sns\n",
    "import plotly.express as px\n",
    "\n",
    "from sklearn.model_selection import (train_test_split,\n",
    "                                     GridSearchCV)\n",
    "from sklearn.preprocessing import (OneHotEncoder,\n",
    "                                   OrdinalEncoder,\n",
    "                                   StandardScaler)                                 \n",
    "from sklearn.compose import (make_column_transformer,\n",
    "                             make_column_selector)\n",
    "from sklearn.pipeline import make_pipeline\n",
    "\n",
    "\n",
    "from sklearn.linear_model import LogisticRegression\n",
    "from sklearn.ensemble import RandomForestClassifier\n",
    "\n",
    "\n",
    "from catboost import (cv,\n",
    "                      Pool,\n",
    "                      CatBoostClassifier)\n",
    "\n",
    "pd.set_option('display.max_columns', None)\n",
    "warnings.filterwarnings(\"ignore\")\n",
    "\n",
    "RANDOM_STATE = 42"
   ]
  },
  {
   "cell_type": "markdown",
   "metadata": {},
   "source": [
    "# Предсказание жанра музыки "
   ]
  },
  {
   "cell_type": "markdown",
   "metadata": {},
   "source": [
    "## Описание проекта"
   ]
  },
  {
   "cell_type": "markdown",
   "metadata": {},
   "source": [
    "Вы сотрудник Отдела Data Science популярного музыкального стримингового сервиса. Сервис расширяет работу с новыми артистами и музыкантами, в связи с чем возникла задача -- правильно классифицировать новые музыкальные треки, чтобы улучшить работу рекомендательной системы. Ваши коллеги из отдела работы со звуком подготовили датасет, в котором собраны некоторые характеристики музыкальных произведений и их жанры. Ваша задача -- разработать модель, позволяющую классифицировать музыкальные произведения по жанрам.\n",
    "\n",
    "**Данные**\n",
    "* train.csv - информация (~20000) музыкальных треках, которые будут использоваться в качестве обучающих данных.\n",
    "* test.csv - информация (~5000) музыкальных треках, которые будут использоваться в качестве тестовых данных. Ваша задача - предсказать значение 'music_genre' для каждого трека из этого датасета.\n",
    "* sample_submit.csv - файл предсказаний в правильном формате.\n",
    "\n",
    "**Описание полей данных**  \n",
    "`instance_id` - уникальный идентификатор трека  \n",
    "`track_name` - название трека  \n",
    "`acousticness` - акустичность  \n",
    "`danceability` - танцевальность  \n",
    "`duration_ms` -продолжительность в милисекундах  \n",
    "`energy` - энергичность  \n",
    "`instrumentalness` - инструментальность  \n",
    "`key` - базовый ключ (нота) произведения  \n",
    "`liveness` - привлекательность  \n",
    "`loudness` - громкость  \n",
    "`mode` - указывает на модальность (мажорную или минорную) трека  \n",
    "`speechiness` - выразительность  \n",
    "`tempo` - темп  \n",
    "`obtained_date` - дата загрузки в сервис  \n",
    "`valence` - привлекательность произведения для пользователей сервиса  \n",
    "`music_genre` - музыкальный жанр  "
   ]
  },
  {
   "cell_type": "markdown",
   "metadata": {},
   "source": [
    "## Загрузка и ознакомление с данными"
   ]
  },
  {
   "cell_type": "code",
   "execution_count": null,
   "metadata": {
    "execution": {
     "iopub.execute_input": "2023-11-07T17:00:42.059781Z",
     "iopub.status.busy": "2023-11-07T17:00:42.058625Z",
     "iopub.status.idle": "2023-11-07T17:00:42.187777Z",
     "shell.execute_reply": "2023-11-07T17:00:42.186237Z",
     "shell.execute_reply.started": "2023-11-07T17:00:42.059739Z"
    }
   },
   "outputs": [],
   "source": [
    "# df_train = pd.read_csv('/kaggle/input/kaggle-music-genre/kaggle_music_genre_train.csv')\n",
    "# df_test = pd.read_csv('/kaggle/input/kaggle-music-genre/kaggle_music_genre_test.csv')\n",
    "df_train = pd.read_csv('./datasets/kaggle_music_genre_train.csv')\n",
    "df_test = pd.read_csv('./datasets/kaggle_music_genre_test.csv')"
   ]
  },
  {
   "cell_type": "code",
   "execution_count": null,
   "metadata": {
    "execution": {
     "iopub.execute_input": "2023-11-07T17:00:42.191749Z",
     "iopub.status.busy": "2023-11-07T17:00:42.191353Z",
     "iopub.status.idle": "2023-11-07T17:00:42.198975Z",
     "shell.execute_reply": "2023-11-07T17:00:42.197128Z",
     "shell.execute_reply.started": "2023-11-07T17:00:42.191719Z"
    }
   },
   "outputs": [],
   "source": [
    "def get_data_info(df):\n",
    "    display(df.sample(5))\n",
    "    display(df.info())\n",
    "    display(df.describe(include='all').transpose())"
   ]
  },
  {
   "cell_type": "code",
   "execution_count": null,
   "metadata": {
    "execution": {
     "iopub.execute_input": "2023-11-07T17:00:42.202346Z",
     "iopub.status.busy": "2023-11-07T17:00:42.201092Z",
     "iopub.status.idle": "2023-11-07T17:00:42.496356Z",
     "shell.execute_reply": "2023-11-07T17:00:42.494560Z",
     "shell.execute_reply.started": "2023-11-07T17:00:42.202124Z"
    }
   },
   "outputs": [],
   "source": [
    "get_data_info(df_train)"
   ]
  },
  {
   "cell_type": "markdown",
   "metadata": {},
   "source": [
    "В данных есть пропуски в колонках:\n",
    "* `key`\n",
    "* `mode`\n",
    "* `tempo`\n",
    "\n",
    " На последующих этапах посмотрим что делать с данными пропусками."
   ]
  },
  {
   "cell_type": "markdown",
   "metadata": {},
   "source": [
    "## Предварительная обработка"
   ]
  },
  {
   "cell_type": "markdown",
   "metadata": {},
   "source": [
    "При обучении, поля `instance_id` и `obtained_date` не представляют интереса, удалим их."
   ]
  },
  {
   "cell_type": "code",
   "execution_count": null,
   "metadata": {
    "execution": {
     "iopub.execute_input": "2023-11-07T17:00:42.499866Z",
     "iopub.status.busy": "2023-11-07T17:00:42.498460Z",
     "iopub.status.idle": "2023-11-07T17:00:42.511452Z",
     "shell.execute_reply": "2023-11-07T17:00:42.509565Z",
     "shell.execute_reply.started": "2023-11-07T17:00:42.499820Z"
    }
   },
   "outputs": [],
   "source": [
    "df_train = df_train.drop(['instance_id',\n",
    "                          'obtained_date'], axis = 1)"
   ]
  },
  {
   "cell_type": "markdown",
   "metadata": {},
   "source": [
    "### Дубликаты"
   ]
  },
  {
   "cell_type": "markdown",
   "metadata": {},
   "source": [
    "Проверим полные дубликаты в данных"
   ]
  },
  {
   "cell_type": "code",
   "execution_count": null,
   "metadata": {},
   "outputs": [],
   "source": [
    "df_train.duplicated().sum()"
   ]
  },
  {
   "cell_type": "markdown",
   "metadata": {},
   "source": [
    "такой оказался один удалим его"
   ]
  },
  {
   "cell_type": "code",
   "execution_count": null,
   "metadata": {},
   "outputs": [],
   "source": [
    "df_train = df_train.drop_duplicates()\n",
    "df_train.duplicated().sum()"
   ]
  },
  {
   "cell_type": "markdown",
   "metadata": {},
   "source": [
    "проверим дубликаты данных если не брать колонку жанр"
   ]
  },
  {
   "cell_type": "code",
   "execution_count": null,
   "metadata": {},
   "outputs": [],
   "source": [
    "df_train[df_train.duplicated(subset = ['track_name', 'acousticness', 'danceability', 'duration_ms', 'energy',\n",
    "       'instrumentalness', 'key', 'liveness', 'loudness', 'mode',\n",
    "       'speechiness', 'tempo', 'valence'], keep=False)]"
   ]
  },
  {
   "cell_type": "markdown",
   "metadata": {},
   "source": [
    "Таких уже гораздо больше, и так как получается абсолютно одинаковые параметры нам будут давать разные жанры, это очень плохо для модели, удалим все эти строки"
   ]
  },
  {
   "cell_type": "code",
   "execution_count": null,
   "metadata": {},
   "outputs": [],
   "source": [
    "df_train = df_train.drop_duplicates(subset = ['track_name', 'acousticness', 'danceability', 'duration_ms', 'energy',\n",
    "       'instrumentalness', 'key', 'liveness', 'loudness', 'mode',\n",
    "       'speechiness', 'tempo', 'valence'], keep=False)"
   ]
  },
  {
   "cell_type": "markdown",
   "metadata": {},
   "source": [
    "### Пропуски"
   ]
  },
  {
   "cell_type": "code",
   "execution_count": null,
   "metadata": {
    "execution": {
     "iopub.execute_input": "2023-11-07T17:00:42.644410Z",
     "iopub.status.busy": "2023-11-07T17:00:42.643914Z",
     "iopub.status.idle": "2023-11-07T17:00:46.238484Z",
     "shell.execute_reply": "2023-11-07T17:00:46.237204Z",
     "shell.execute_reply.started": "2023-11-07T17:00:42.644372Z"
    }
   },
   "outputs": [],
   "source": [
    "phik_overview = df_train.drop(['track_name'], axis = 1).phik_matrix()\n",
    "sns.heatmap(phik_overview)"
   ]
  },
  {
   "cell_type": "code",
   "execution_count": null,
   "metadata": {
    "execution": {
     "iopub.execute_input": "2023-11-07T17:00:46.241487Z",
     "iopub.status.busy": "2023-11-07T17:00:46.240321Z",
     "iopub.status.idle": "2023-11-07T17:00:46.252766Z",
     "shell.execute_reply": "2023-11-07T17:00:46.251457Z",
     "shell.execute_reply.started": "2023-11-07T17:00:46.241433Z"
    }
   },
   "outputs": [],
   "source": [
    "phik_overview['key'].sort_values(ascending = False)"
   ]
  },
  {
   "cell_type": "code",
   "execution_count": null,
   "metadata": {
    "execution": {
     "iopub.execute_input": "2023-11-07T17:00:46.255246Z",
     "iopub.status.busy": "2023-11-07T17:00:46.254737Z",
     "iopub.status.idle": "2023-11-07T17:00:46.270739Z",
     "shell.execute_reply": "2023-11-07T17:00:46.269127Z",
     "shell.execute_reply.started": "2023-11-07T17:00:46.255199Z"
    }
   },
   "outputs": [],
   "source": [
    "phik_overview['mode'].sort_values(ascending = False)"
   ]
  },
  {
   "cell_type": "markdown",
   "metadata": {},
   "source": [
    "Согласно таблицы кореляции поля `mode`, `key` зависят друг от друга, заменим пропуски в mode наиболее частым значением по группам key"
   ]
  },
  {
   "cell_type": "code",
   "execution_count": null,
   "metadata": {},
   "outputs": [],
   "source": [
    "key_mode = df_train.groupby(['key', 'mode'])['track_name'].agg('count').reset_index()\n",
    "key_mode = key_mode.rename(columns = {'track_name':'count'})\n",
    "key_mode['count_max'] = key_mode.groupby(['key'])['count'].transform(max)\n",
    "key_mode = key_mode[key_mode['count'] == key_mode['count_max']][['key', 'mode']]\n",
    "dict_mode = dict(key_mode.values)\n",
    "dict_mode"
   ]
  },
  {
   "cell_type": "code",
   "execution_count": null,
   "metadata": {},
   "outputs": [],
   "source": [
    "def get_mode(x):\n",
    "    if x['key'] in dict_mode and x['mode'] != x['mode']:\n",
    "        return dict_mode[x['key']]\n",
    "    \n",
    "    return x['mode']"
   ]
  },
  {
   "cell_type": "code",
   "execution_count": null,
   "metadata": {},
   "outputs": [],
   "source": [
    "df_train['mode'] = df_train.apply(get_mode, axis=1)"
   ]
  },
  {
   "cell_type": "code",
   "execution_count": null,
   "metadata": {
    "execution": {
     "iopub.execute_input": "2023-11-07T17:00:46.272863Z",
     "iopub.status.busy": "2023-11-07T17:00:46.272403Z",
     "iopub.status.idle": "2023-11-07T17:00:46.291759Z",
     "shell.execute_reply": "2023-11-07T17:00:46.290806Z",
     "shell.execute_reply.started": "2023-11-07T17:00:46.272830Z"
    }
   },
   "outputs": [],
   "source": [
    "df_train['mode'] = df_train['mode'].fillna('unknow')\n",
    "df_train['key'] = df_train['key'].fillna('unknow')"
   ]
  },
  {
   "cell_type": "code",
   "execution_count": null,
   "metadata": {
    "execution": {
     "iopub.execute_input": "2023-11-07T17:00:46.294043Z",
     "iopub.status.busy": "2023-11-07T17:00:46.293393Z",
     "iopub.status.idle": "2023-11-07T17:00:46.304445Z",
     "shell.execute_reply": "2023-11-07T17:00:46.302855Z",
     "shell.execute_reply.started": "2023-11-07T17:00:46.294008Z"
    }
   },
   "outputs": [],
   "source": [
    "phik_overview['tempo'].sort_values(ascending = False)"
   ]
  },
  {
   "cell_type": "markdown",
   "metadata": {},
   "source": [
    "Поле `tempo` зависит от `danceability` поэтому заменим пропуски `tempo` заменим медианным значением сгруппированным по `danceability`"
   ]
  },
  {
   "cell_type": "code",
   "execution_count": null,
   "metadata": {},
   "outputs": [],
   "source": [
    "df_train['danceability_cut'] = pd.cut(df_train['danceability'], 100)\n",
    "df_train['tempo'] = df_train.groupby('danceability_cut')['tempo'].transform(lambda x: x.fillna(x.median()))"
   ]
  },
  {
   "cell_type": "code",
   "execution_count": null,
   "metadata": {
    "execution": {
     "iopub.execute_input": "2023-11-07T17:00:46.400266Z",
     "iopub.status.busy": "2023-11-07T17:00:46.399877Z",
     "iopub.status.idle": "2023-11-07T17:00:46.408902Z",
     "shell.execute_reply": "2023-11-07T17:00:46.407834Z",
     "shell.execute_reply.started": "2023-11-07T17:00:46.400212Z"
    }
   },
   "outputs": [],
   "source": [
    "df_train = df_train.drop(['danceability_cut'], axis = 1)"
   ]
  },
  {
   "cell_type": "markdown",
   "metadata": {},
   "source": [
    "## Разведочный анализ"
   ]
  },
  {
   "cell_type": "code",
   "execution_count": null,
   "metadata": {
    "execution": {
     "iopub.execute_input": "2023-11-07T17:00:46.410836Z",
     "iopub.status.busy": "2023-11-07T17:00:46.410086Z",
     "iopub.status.idle": "2023-11-07T17:00:47.512244Z",
     "shell.execute_reply": "2023-11-07T17:00:47.511143Z",
     "shell.execute_reply.started": "2023-11-07T17:00:46.410803Z"
    }
   },
   "outputs": [],
   "source": [
    "phik_overview = df_train.phik_matrix()\n",
    "phik_overview['music_genre'].sort_values(ascending = False)"
   ]
  },
  {
   "cell_type": "markdown",
   "metadata": {},
   "source": [
    "Видим зависимость жанра от `loudness`, `energy`, `acousticness`, `danceability`, `instrumentalness`, `speechiness`, `valence` более подробно посмотрим на данные. "
   ]
  },
  {
   "cell_type": "code",
   "execution_count": null,
   "metadata": {
    "execution": {
     "iopub.execute_input": "2023-11-07T17:00:47.514726Z",
     "iopub.status.busy": "2023-11-07T17:00:47.514121Z",
     "iopub.status.idle": "2023-11-07T17:00:48.061785Z",
     "shell.execute_reply": "2023-11-07T17:00:48.060370Z",
     "shell.execute_reply.started": "2023-11-07T17:00:47.514616Z"
    }
   },
   "outputs": [],
   "source": [
    "px.histogram(df_train, x='loudness', title = 'Гистограмма loudness', marginal = 'box')"
   ]
  },
  {
   "cell_type": "code",
   "execution_count": null,
   "metadata": {
    "execution": {
     "iopub.execute_input": "2023-11-07T17:00:48.064618Z",
     "iopub.status.busy": "2023-11-07T17:00:48.063432Z",
     "iopub.status.idle": "2023-11-07T17:00:48.194419Z",
     "shell.execute_reply": "2023-11-07T17:00:48.193065Z",
     "shell.execute_reply.started": "2023-11-07T17:00:48.064559Z"
    }
   },
   "outputs": [],
   "source": [
    "px.histogram(df_train, x='energy', title = 'Гистограмма energy', marginal = 'box')"
   ]
  },
  {
   "cell_type": "code",
   "execution_count": null,
   "metadata": {
    "execution": {
     "iopub.execute_input": "2023-11-07T17:00:48.196648Z",
     "iopub.status.busy": "2023-11-07T17:00:48.196016Z",
     "iopub.status.idle": "2023-11-07T17:00:48.319243Z",
     "shell.execute_reply": "2023-11-07T17:00:48.317501Z",
     "shell.execute_reply.started": "2023-11-07T17:00:48.196606Z"
    }
   },
   "outputs": [],
   "source": [
    "px.histogram(df_train, x='danceability', title = 'Гистограмма danceability', marginal = 'box')"
   ]
  },
  {
   "cell_type": "code",
   "execution_count": null,
   "metadata": {
    "execution": {
     "iopub.execute_input": "2023-11-07T17:00:48.321684Z",
     "iopub.status.busy": "2023-11-07T17:00:48.321278Z",
     "iopub.status.idle": "2023-11-07T17:00:48.456651Z",
     "shell.execute_reply": "2023-11-07T17:00:48.455287Z",
     "shell.execute_reply.started": "2023-11-07T17:00:48.321647Z"
    }
   },
   "outputs": [],
   "source": [
    "px.histogram(df_train, x='acousticness', title = 'Гистограмма acousticness', marginal = 'box')"
   ]
  },
  {
   "cell_type": "markdown",
   "metadata": {},
   "source": [
    "## Разработка новых синтетических признаков"
   ]
  },
  {
   "cell_type": "markdown",
   "metadata": {},
   "source": [
    "Добавим признак имеются ли в названии песни символы `\\p{Han}`"
   ]
  },
  {
   "cell_type": "code",
   "execution_count": null,
   "metadata": {},
   "outputs": [],
   "source": [
    "def serch_han_name(track_name):\n",
    "    if regex.search(r'\\p{Han}', track_name):\n",
    "        return 1\n",
    "    return 0"
   ]
  },
  {
   "cell_type": "code",
   "execution_count": null,
   "metadata": {},
   "outputs": [],
   "source": [
    "df_train['is_han_name'] = df_train['track_name'].apply(serch_han_name)\n",
    "df_test['is_han_name'] = df_test['track_name'].apply(serch_han_name)"
   ]
  },
  {
   "cell_type": "markdown",
   "metadata": {},
   "source": [
    "Добавим признак что в названии есть `feat`"
   ]
  },
  {
   "cell_type": "code",
   "execution_count": null,
   "metadata": {},
   "outputs": [],
   "source": [
    "def serch_feat_name(track_name):\n",
    "    if regex.search(r'\\bfeat\\b', track_name.lower()):\n",
    "        return 1\n",
    "    return 0"
   ]
  },
  {
   "cell_type": "code",
   "execution_count": null,
   "metadata": {},
   "outputs": [],
   "source": [
    "df_train['is_feat_name'] = df_train['track_name'].apply(serch_feat_name)\n",
    "df_test['is_feat_name'] = df_test['track_name'].apply(serch_feat_name)"
   ]
  },
  {
   "cell_type": "markdown",
   "metadata": {},
   "source": [
    "Добавим длину названия трека"
   ]
  },
  {
   "cell_type": "code",
   "execution_count": null,
   "metadata": {},
   "outputs": [],
   "source": [
    "df_train['name_lenght'] = df_train['track_name'].str.len()\n",
    "df_test['name_lenght'] = df_test['track_name'].str.len()"
   ]
  },
  {
   "cell_type": "markdown",
   "metadata": {},
   "source": [
    "## Проверка на мультиколлинеарность"
   ]
  },
  {
   "cell_type": "code",
   "execution_count": null,
   "metadata": {},
   "outputs": [],
   "source": []
  },
  {
   "cell_type": "markdown",
   "metadata": {},
   "source": [
    "## Отбор финального набора обучающих признаков"
   ]
  },
  {
   "cell_type": "code",
   "execution_count": null,
   "metadata": {
    "execution": {
     "iopub.execute_input": "2023-11-07T17:00:48.459522Z",
     "iopub.status.busy": "2023-11-07T17:00:48.458688Z",
     "iopub.status.idle": "2023-11-07T17:00:48.477350Z",
     "shell.execute_reply": "2023-11-07T17:00:48.475614Z",
     "shell.execute_reply.started": "2023-11-07T17:00:48.459471Z"
    }
   },
   "outputs": [],
   "source": [
    "# df_train = df_train.drop(['track_name'], axis=1).reset_index(drop=True)\n",
    "df_train = df_train.reset_index(drop=True)"
   ]
  },
  {
   "cell_type": "code",
   "execution_count": null,
   "metadata": {
    "execution": {
     "iopub.execute_input": "2023-11-07T17:00:48.480837Z",
     "iopub.status.busy": "2023-11-07T17:00:48.479928Z",
     "iopub.status.idle": "2023-11-07T17:00:48.537721Z",
     "shell.execute_reply": "2023-11-07T17:00:48.536021Z",
     "shell.execute_reply.started": "2023-11-07T17:00:48.480784Z"
    }
   },
   "outputs": [],
   "source": [
    "features_train = df_train.drop(['music_genre'], axis=1)\n",
    "target_train = df_train['music_genre']"
   ]
  },
  {
   "cell_type": "code",
   "execution_count": null,
   "metadata": {
    "execution": {
     "iopub.execute_input": "2023-11-07T17:00:48.540119Z",
     "iopub.status.busy": "2023-11-07T17:00:48.539721Z",
     "iopub.status.idle": "2023-11-07T17:00:48.551718Z",
     "shell.execute_reply": "2023-11-07T17:00:48.549968Z",
     "shell.execute_reply.started": "2023-11-07T17:00:48.540087Z"
    }
   },
   "outputs": [],
   "source": [
    "display(features_train.shape)"
   ]
  },
  {
   "cell_type": "markdown",
   "metadata": {},
   "source": [
    "## Выбор и обучение моделей"
   ]
  },
  {
   "cell_type": "markdown",
   "metadata": {},
   "source": [
    "### Модель LogisticRegression"
   ]
  },
  {
   "cell_type": "code",
   "execution_count": null,
   "metadata": {},
   "outputs": [],
   "source": [
    "oe_features_lr = features_train.select_dtypes(include='object').columns.to_list()\n",
    "oe_features_lr.remove('mode')\n",
    "oe_features_lr.append('is_han_name')\n",
    "oe_features_lr.append('is_feat_name')\n",
    "oe_features_lr"
   ]
  },
  {
   "cell_type": "code",
   "execution_count": null,
   "metadata": {
    "execution": {
     "iopub.execute_input": "2023-11-07T17:00:48.554441Z",
     "iopub.status.busy": "2023-11-07T17:00:48.553321Z",
     "iopub.status.idle": "2023-11-07T17:00:48.568379Z",
     "shell.execute_reply": "2023-11-07T17:00:48.566905Z",
     "shell.execute_reply.started": "2023-11-07T17:00:48.554394Z"
    }
   },
   "outputs": [],
   "source": [
    "line_transformer = make_column_transformer(\n",
    "    (\n",
    "        OneHotEncoder(\n",
    "            dtype='int16',\n",
    "            drop='first',\n",
    "            handle_unknown='ignore'\n",
    "        ), make_column_selector(dtype_include='object')\n",
    "    ),\n",
    "    (\n",
    "        StandardScaler(\n",
    "        ), make_column_selector(dtype_include='number')\n",
    "    ),\n",
    "    remainder='passthrough'\n",
    ")\n",
    "\n",
    "pipe_lr = make_pipeline(\n",
    "    line_transformer,\n",
    "    LogisticRegression(\n",
    "        multi_class = 'multinomial',\n",
    "        random_state=RANDOM_STATE,\n",
    "        n_jobs=-1\n",
    "    )\n",
    ")\n",
    "\n",
    "param_grid = {\n",
    "    'logisticregression__solver':['newton-cg', 'lbfgs', 'sag', 'saga'],\n",
    "    'logisticregression__C':[.001, .01],\n",
    "    'logisticregression__max_iter':[500, 1000]\n",
    "}\n",
    "\n",
    "gs_lr = GridSearchCV(\n",
    "    pipe_lr,\n",
    "    param_grid,\n",
    "    scoring={'f1_micro':'f1_micro'},\n",
    "    n_jobs=-1,\n",
    "    verbose=1,\n",
    "    refit='f1_micro'\n",
    ")"
   ]
  },
  {
   "cell_type": "code",
   "execution_count": null,
   "metadata": {
    "execution": {
     "iopub.execute_input": "2023-11-07T17:00:48.585277Z",
     "iopub.status.busy": "2023-11-07T17:00:48.583617Z",
     "iopub.status.idle": "2023-11-07T17:01:08.314101Z",
     "shell.execute_reply": "2023-11-07T17:01:08.312911Z",
     "shell.execute_reply.started": "2023-11-07T17:00:48.585181Z"
    }
   },
   "outputs": [],
   "source": [
    "features_columns_lr = features_train.columns.tolist()\n",
    "features_columns_lr.remove('mode')\n",
    "\n",
    "%time gs_lr.fit(features_train[features_columns_lr], target_train)"
   ]
  },
  {
   "cell_type": "code",
   "execution_count": null,
   "metadata": {
    "execution": {
     "iopub.execute_input": "2023-11-07T17:01:08.316504Z",
     "iopub.status.busy": "2023-11-07T17:01:08.315844Z",
     "iopub.status.idle": "2023-11-07T17:01:08.323239Z",
     "shell.execute_reply": "2023-11-07T17:01:08.321923Z",
     "shell.execute_reply.started": "2023-11-07T17:01:08.316452Z"
    }
   },
   "outputs": [],
   "source": [
    "print(f'best_score: {gs_lr.best_score_}')\n",
    "print(f'best_params: {gs_lr.best_params_}')"
   ]
  },
  {
   "cell_type": "markdown",
   "metadata": {},
   "source": [
    "### Модель RandomForestClassifier"
   ]
  },
  {
   "cell_type": "code",
   "execution_count": null,
   "metadata": {},
   "outputs": [],
   "source": [
    "oe_features_rf = features_train.select_dtypes(include='object').columns.to_list()\n",
    "oe_features_rf.append('is_han_name')\n",
    "oe_features_rf.append('is_feat_name')\n",
    "oe_features_rf"
   ]
  },
  {
   "cell_type": "code",
   "execution_count": null,
   "metadata": {
    "execution": {
     "iopub.execute_input": "2023-11-07T17:09:21.112467Z",
     "iopub.status.busy": "2023-11-07T17:09:21.111994Z",
     "iopub.status.idle": "2023-11-07T17:09:21.123335Z",
     "shell.execute_reply": "2023-11-07T17:09:21.122022Z",
     "shell.execute_reply.started": "2023-11-07T17:09:21.112433Z"
    }
   },
   "outputs": [],
   "source": [
    "transformer_rf = make_column_transformer(\n",
    "    (\n",
    "        OneHotEncoder(\n",
    "            dtype='int16',\n",
    "            drop='first',\n",
    "            handle_unknown='ignore'\n",
    "        ), oe_features_rf\n",
    "    ),\n",
    "    remainder='passthrough'\n",
    ")\n",
    "\n",
    "pipe_rf = make_pipeline(\n",
    "    transformer_rf,\n",
    "    RandomForestClassifier(\n",
    "        random_state=RANDOM_STATE,\n",
    "        n_jobs=-1\n",
    "    )\n",
    ")\n",
    "\n",
    "param_grid = {\n",
    "    'randomforestclassifier__n_estimators':np.arange(100, 300, 50),\n",
    "    'randomforestclassifier__max_depth':np.arange(1, 20, 2),\n",
    "}\n",
    "\n",
    "gs_rf = GridSearchCV(\n",
    "    pipe_rf,\n",
    "    param_grid,\n",
    "    scoring={'f1_micro':'f1_micro'},\n",
    "    n_jobs=-1,\n",
    "    verbose=1,\n",
    "    refit='f1_micro'\n",
    ")"
   ]
  },
  {
   "cell_type": "code",
   "execution_count": null,
   "metadata": {
    "execution": {
     "iopub.execute_input": "2023-11-07T17:09:40.860765Z",
     "iopub.status.busy": "2023-11-07T17:09:40.860238Z"
    }
   },
   "outputs": [],
   "source": [
    "%time gs_rf.fit(features_train, target_train)"
   ]
  },
  {
   "cell_type": "code",
   "execution_count": null,
   "metadata": {},
   "outputs": [],
   "source": [
    "print(f'best_score: {gs_rf.best_score_}')\n",
    "print(f'best_params: {gs_rf.best_params_}')"
   ]
  },
  {
   "cell_type": "markdown",
   "metadata": {},
   "source": [
    "### Модель CatBoostClassifier"
   ]
  },
  {
   "cell_type": "code",
   "execution_count": null,
   "metadata": {},
   "outputs": [],
   "source": [
    "features = df_train.columns.tolist()\n",
    "features.remove('track_name')\n",
    "features.remove('music_genre')\n",
    "\n",
    "cat_features = ['key','mode', 'is_han_name', 'is_feat_name']\n",
    "\n",
    "# cat_features = ['key','mode', 'is_han_name', 'is_feat_name', 'is_remix_name', 'is_radio_name',\n",
    "#        'is_mix_name', 'is_remastered_name', 'is_version_name', 'is_allegro_name', 'is_blues_name']\n",
    "\n",
    "model_cb_gs = CatBoostClassifier(loss_function='MultiClass',\n",
    "                                eval_metric='TotalF1',\n",
    "                                random_seed=RANDOM_STATE,\n",
    "                                verbose=200,\n",
    "                                task_type=\"GPU\",\n",
    "                                \n",
    "                               )\n",
    "cat_pool = Pool(data=features_train[features],\n",
    "                label=target_train,\n",
    "                cat_features=cat_features)\n",
    "\n",
    "grid = {'learning_rate': [0.1, 0.09],\n",
    "        'depth': [4, 6, 10],\n",
    "        'l2_leaf_reg': [1, 3, 5, 7, 9]}\n",
    "\n",
    "\n",
    "grid_search_result = model_cb_gs.grid_search(grid,\n",
    "                                            X=cat_pool,\n",
    "                                            #y=target_train,\n",
    "                                            plot=True,\n",
    "                                            cv = 5,\n",
    "                                            shuffle=True,\n",
    "                                            partition_random_seed=RANDOM_STATE,\n",
    "                                            stratified=True\n",
    "                                           )\n"
   ]
  },
  {
   "cell_type": "code",
   "execution_count": null,
   "metadata": {},
   "outputs": [],
   "source": [
    "grid_search_result['params']"
   ]
  },
  {
   "cell_type": "code",
   "execution_count": null,
   "metadata": {},
   "outputs": [],
   "source": [
    "df_train.columns"
   ]
  },
  {
   "cell_type": "code",
   "execution_count": null,
   "metadata": {},
   "outputs": [],
   "source": [
    "features = df_train.columns.tolist()\n",
    "features.remove('track_name')\n",
    "\n",
    "cat_features = ['key','mode', 'is_han_name', 'is_feat_name']\n",
    "\n",
    "# cat_features = ['key','mode', 'is_han_name', 'is_feat_name', 'is_remix_name', 'is_radio_name',\n",
    "#        'is_mix_name', 'is_remastered_name', 'is_version_name', 'is_allegro_name', 'is_blues_name']\n",
    "\n",
    "train_cbm, test_cbm = train_test_split(df_train[features], test_size=0.25, random_state=RANDOM_STATE, stratify=df_train['music_genre'])\n",
    "features_train_cbm = train_cbm.drop(['music_genre'], axis=1)\n",
    "target_train_cbm = train_cbm['music_genre']\n",
    "features_test_cbm = test_cbm.drop(['music_genre'], axis=1)\n",
    "target_test_cbm = test_cbm['music_genre']\n",
    "\n",
    "\n",
    "model_cb_best_param = CatBoostClassifier(loss_function='MultiClass',\n",
    "                           eval_metric='TotalF1',\n",
    "                           random_seed=RANDOM_STATE,\n",
    "                           learning_rate=0.1,\n",
    "                           depth = 6,\n",
    "                           l2_leaf_reg = 9,\n",
    "                           task_type=\"GPU\")\n",
    "model_cb_best_param.fit(\n",
    "    X=features_train_cbm, \n",
    "    y=target_train_cbm,\n",
    "    cat_features=cat_features,\n",
    "    eval_set=(features_test_cbm, target_test_cbm),\n",
    "    verbose=False,\n",
    "    plot=True\n",
    ")"
   ]
  },
  {
   "cell_type": "code",
   "execution_count": null,
   "metadata": {},
   "outputs": [],
   "source": [
    "target_test_bad = target_test_cbm.to_frame()"
   ]
  },
  {
   "cell_type": "code",
   "execution_count": null,
   "metadata": {},
   "outputs": [],
   "source": [
    "target_test_bad['predict'] = model_cb_best_param.predict(features_test_cbm)"
   ]
  },
  {
   "cell_type": "code",
   "execution_count": null,
   "metadata": {},
   "outputs": [],
   "source": [
    "target_test_bad_v = target_test_bad[target_test_bad['music_genre'] != target_test_bad['predict']]\n",
    "target_test_bad_v"
   ]
  },
  {
   "cell_type": "code",
   "execution_count": null,
   "metadata": {},
   "outputs": [],
   "source": [
    "target_test_bad_v['music_genre'].value_counts()"
   ]
  },
  {
   "cell_type": "code",
   "execution_count": null,
   "metadata": {},
   "outputs": [],
   "source": [
    "pd.options.display.max_rows = 999"
   ]
  },
  {
   "cell_type": "code",
   "execution_count": null,
   "metadata": {},
   "outputs": [],
   "source": [
    "df_train[df_train['duration_ms'] < 0]"
   ]
  },
  {
   "cell_type": "code",
   "execution_count": null,
   "metadata": {},
   "outputs": [],
   "source": [
    "df_train_all = pd.read_csv('./datasets/kaggle_music_genre_train.csv')"
   ]
  },
  {
   "cell_type": "code",
   "execution_count": null,
   "metadata": {},
   "outputs": [],
   "source": [
    "t = target_test_bad_v.join(df_train[['track_name', 'acousticness', 'danceability', 'duration_ms', 'energy',\n",
    "       'instrumentalness', 'key', 'liveness', 'loudness', 'mode',\n",
    "       'speechiness', 'tempo', 'valence', 'is_han_name',\n",
    "       'is_feat_name', 'name_lenght']])\n",
    "t.head(200)"
   ]
  },
  {
   "cell_type": "code",
   "execution_count": null,
   "metadata": {},
   "outputs": [],
   "source": [
    "features_test_cbm ['speechiness'].value_counts()"
   ]
  },
  {
   "cell_type": "markdown",
   "metadata": {},
   "source": [
    "## Итоговая оценка качества предсказания лучшей модели"
   ]
  },
  {
   "cell_type": "code",
   "execution_count": null,
   "metadata": {},
   "outputs": [],
   "source": [
    "best_model = model_cb_best_param"
   ]
  },
  {
   "cell_type": "markdown",
   "metadata": {},
   "source": [
    "Обработаем пропуски в тестовых данных"
   ]
  },
  {
   "cell_type": "code",
   "execution_count": null,
   "metadata": {},
   "outputs": [],
   "source": [
    "# df_test['mode'] = df_test.apply(get_mode, axis=1)\n",
    "df_test['mode'] = df_test['mode'].fillna('unknow')\n",
    "df_test['key'] = df_test['key'].fillna('unknow')"
   ]
  },
  {
   "cell_type": "code",
   "execution_count": null,
   "metadata": {},
   "outputs": [],
   "source": [
    "df_test['danceability_cut'] = pd.cut(df_test['danceability'], 100)\n",
    "df_test['tempo'] = df_test.groupby('danceability_cut')['tempo'].transform(lambda x: x.fillna(x.median()))"
   ]
  },
  {
   "cell_type": "code",
   "execution_count": null,
   "metadata": {},
   "outputs": [],
   "source": [
    "colum_name = df_train.columns.tolist()\n",
    "colum_name.remove('music_genre')\n",
    "colum_name.remove('track_name')\n",
    "colum_name"
   ]
  },
  {
   "cell_type": "code",
   "execution_count": null,
   "metadata": {},
   "outputs": [],
   "source": [
    "X_test = df_test[colum_name]\n",
    "test_pool = Pool(data=X_test, cat_features=cat_features)\n",
    "music_genre = best_model.predict(test_pool)\n",
    "print('Predictoins:')\n",
    "print(music_genre)"
   ]
  },
  {
   "cell_type": "code",
   "execution_count": null,
   "metadata": {},
   "outputs": [],
   "source": [
    "f = open('submit12.csv', 'w')\n",
    "f.write('instance_id,music_genre\\n')\n",
    "for idx in range(len(music_genre)):\n",
    "    line = str(df_test['instance_id'][idx]) + ',' + str(music_genre[idx][0]) + '\\n'\n",
    "    f.write(line)\n",
    "f.close()"
   ]
  },
  {
   "cell_type": "markdown",
   "metadata": {},
   "source": [
    "## Анализ важности ее признаков."
   ]
  },
  {
   "cell_type": "code",
   "execution_count": null,
   "metadata": {},
   "outputs": [],
   "source": [
    "best_model.get_feature_importance(prettified=True)"
   ]
  },
  {
   "cell_type": "code",
   "execution_count": null,
   "metadata": {},
   "outputs": [],
   "source": [
    "cat_pool = Pool(data=features_train_cbm,\n",
    "                label=target_train_cbm,\n",
    "                cat_features=cat_features)\n",
    "\n",
    "shap_values = best_model.get_feature_importance(cat_pool, type='ShapValues')\n",
    "expected_value = shap_values[0,-1]\n",
    "shap_values = shap_values[:,:-1]\n",
    "print(shap_values.shape)"
   ]
  },
  {
   "cell_type": "code",
   "execution_count": null,
   "metadata": {},
   "outputs": [],
   "source": [
    "shap.plots.force(expected_value[1], shap_values[14975, 1])"
   ]
  },
  {
   "cell_type": "code",
   "execution_count": null,
   "metadata": {},
   "outputs": [],
   "source": [
    "shap.plots.force(shap_values[14975, ...])"
   ]
  },
  {
   "cell_type": "code",
   "execution_count": null,
   "metadata": {},
   "outputs": [],
   "source": [
    "explainer = shap.TreeExplainer(best_model)\n",
    "shap_values = explainer(features_train_cbm, target_train_cbm)\n",
    "shap.plots.beeswarm(shap_values[..., 0])"
   ]
  },
  {
   "cell_type": "code",
   "execution_count": null,
   "metadata": {},
   "outputs": [],
   "source": [
    "shap.plots.beeswarm(shap_values[..., 3])"
   ]
  },
  {
   "cell_type": "code",
   "execution_count": null,
   "metadata": {},
   "outputs": [],
   "source": []
  }
 ],
 "metadata": {
  "kernelspec": {
   "display_name": "Python 3 (ipykernel)",
   "language": "python",
   "name": "python3"
  },
  "language_info": {
   "codemirror_mode": {
    "name": "ipython",
    "version": 3
   },
   "file_extension": ".py",
   "mimetype": "text/x-python",
   "name": "python",
   "nbconvert_exporter": "python",
   "pygments_lexer": "ipython3",
   "version": "3.9.13"
  },
  "toc": {
   "base_numbering": 1,
   "nav_menu": {},
   "number_sections": true,
   "sideBar": true,
   "skip_h1_title": true,
   "title_cell": "Table of Contents",
   "title_sidebar": "Contents",
   "toc_cell": true,
   "toc_position": {
    "height": "calc(100% - 180px)",
    "left": "10px",
    "top": "150px",
    "width": "368.141px"
   },
   "toc_section_display": true,
   "toc_window_display": true
  }
 },
 "nbformat": 4,
 "nbformat_minor": 4
}
